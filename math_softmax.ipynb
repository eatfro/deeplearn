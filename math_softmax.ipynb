{
 "cells": [
  {
   "cell_type": "code",
   "execution_count": 5,
   "id": "15551974",
   "metadata": {},
   "outputs": [],
   "source": [
    "import numpy as np\n",
    "import torch \n",
    "import torch.nn as nn\n",
    "import matplotlib.pyplot as plt"
   ]
  },
  {
   "cell_type": "code",
   "execution_count": 3,
   "id": "93c8e680",
   "metadata": {},
   "outputs": [],
   "source": [
    "# \" manually\" in  numpy\n",
    "# the list of numbers\n",
    "\n",
    "z = [1,2,3]"
   ]
  },
  {
   "cell_type": "code",
   "execution_count": 6,
   "id": "acdad1cc",
   "metadata": {},
   "outputs": [],
   "source": [
    "#compute the softmax result \n",
    "num = np.exp(z)\n",
    "den = np.sum( np.exp(z))\n",
    "sigma = num / den\n",
    "\n"
   ]
  },
  {
   "cell_type": "code",
   "execution_count": 7,
   "id": "a227276b",
   "metadata": {},
   "outputs": [
    {
     "name": "stdout",
     "output_type": "stream",
     "text": [
      "[0.09003057 0.24472847 0.66524096]\n",
      "1.0\n"
     ]
    }
   ],
   "source": [
    "print(sigma)\n",
    "print(np.sum(sigma))"
   ]
  },
  {
   "cell_type": "code",
   "execution_count": 8,
   "id": "a70ea304",
   "metadata": {},
   "outputs": [
    {
     "name": "stdout",
     "output_type": "stream",
     "text": [
      "[ 3  3 -5 10  4 -5  3 -2 -1  3  1 -2 10  1 10 -2  6  0 10  0  3 10 -5  2\n",
      " 14]\n"
     ]
    }
   ],
   "source": [
    "#repeat with some random intergers\n",
    "z = np.random.randint(-5 , high=15, size=25)\n",
    "print(z)"
   ]
  },
  {
   "cell_type": "code",
   "execution_count": 9,
   "id": "e21370ab",
   "metadata": {},
   "outputs": [],
   "source": [
    "#compute the softmax result\n",
    "num = np.exp(z)\n",
    "den = np.sum( num )\n",
    "sigma = num / den "
   ]
  },
  {
   "cell_type": "code",
   "execution_count": 12,
   "id": "779d4f1b",
   "metadata": {},
   "outputs": [
    {
     "name": "stdout",
     "output_type": "stream",
     "text": [
      "tensor([1.5294e-05, 1.5294e-05, 5.1305e-09, 1.6772e-02, 4.1573e-05, 5.1305e-09,\n",
      "        1.5294e-05, 1.0305e-07, 2.8012e-07, 1.5294e-05, 2.0698e-06, 1.0305e-07,\n",
      "        1.6772e-02, 2.0698e-06, 1.6772e-02, 1.0305e-07, 3.0718e-04, 7.6143e-07,\n",
      "        1.6772e-02, 7.6143e-07, 1.5294e-05, 1.6772e-02, 5.1305e-09, 5.6263e-06,\n",
      "        9.1570e-01])\n"
     ]
    }
   ],
   "source": [
    "#create an instance of the softmax activation class\n",
    "\n",
    "softfun = nn.Softmax(dim=0)\n",
    "\n",
    "#then apply the data to that function\n",
    "sigmaT = softfun( torch.Tensor(z) )\n",
    "\n",
    "#now we get the results\n",
    "print(sigmaT)\n",
    "\n"
   ]
  },
  {
   "cell_type": "code",
   "execution_count": 13,
   "id": "8ebd802c",
   "metadata": {},
   "outputs": [
    {
     "data": {
      "image/png": "[encoded data removed]",
      "text/plain": [
       "<Figure size 640x480 with 1 Axes>"
      ]
     },
     "metadata": {},
     "output_type": "display_data"
    }
   ],
   "source": [
    "# show that they are the same\n",
    "plt.plot(sigma , sigmaT , 'ko')\n",
    "plt.xlabel('  \"Manual \" softmax ')\n",
    "plt.ylabel('Pytorch nn.Softmax')\n",
    "plt.title(f'The two methods correlate at r={np.corrcoef(sigma,sigmaT)[0,1]}')\n",
    "plt.show()"
   ]
  }
 ],
 "metadata": {
  "kernelspec": {
   "display_name": ".venv (3.11.1)",
   "language": "python",
   "name": "python3"
  },
  "language_info": {
   "codemirror_mode": {
    "name": "ipython",
    "version": 3
   },
   "file_extension": ".py",
   "mimetype": "text/x-python",
   "name": "python",
   "nbconvert_exporter": "python",
   "pygments_lexer": "ipython3",
   "version": "3.11.1"
  }
 },
 "nbformat": 4,
 "nbformat_minor": 5
}
