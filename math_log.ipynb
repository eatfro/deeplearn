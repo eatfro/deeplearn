{
 "cells": [
  {
   "cell_type": "code",
   "execution_count": 1,
   "id": "ab472a3e",
   "metadata": {},
   "outputs": [],
   "source": [
    "import numpy as np \n",
    "import matplotlib.pyplot as plt\n",
    "import torch\n",
    "import torch.nn as nn"
   ]
  },
  {
   "cell_type": "code",
   "execution_count": 7,
   "id": "0edcaf18",
   "metadata": {},
   "outputs": [
    {
     "data": {
      "text/plain": [
       "<Figure size 1000x400 with 0 Axes>"
      ]
     },
     "metadata": {},
     "output_type": "display_data"
    }
   ],
   "source": [
    "#define a set of points to evaluate\n",
    "\n",
    "x = np.linspace(.0001,1,200)\n",
    "\n",
    "\n",
    "#compute their log\n",
    "logx = np.log(x)\n",
    "\n",
    "\n",
    "#plot! \n",
    "fig = plt.figure(figsize=(10,4))\n",
    "\n",
    "#increase font size . FYI\n",
    "\n",
    "\n",
    "\n",
    "\n",
    "\n",
    "\n"
   ]
  },
  {
   "cell_type": "code",
   "execution_count": 8,
   "id": "d362e519",
   "metadata": {},
   "outputs": [
    {
     "data": {
      "image/png": "[encoded data removed]",
      "text/plain": [
       "<Figure size 640x480 with 1 Axes>"
      ]
     },
     "metadata": {},
     "output_type": "display_data"
    }
   ],
   "source": [
    "\n",
    "\n",
    "plt.plot(x,logx, 'ks-', markerfacecolor= 'w')\n",
    "plt.xlabel('x')\n",
    "plt.ylabel('log(x)')\n",
    "plt.show()\n"
   ]
  },
  {
   "cell_type": "code",
   "execution_count": 2,
   "id": "c8dcc5dc",
   "metadata": {},
   "outputs": [],
   "source": [
    "#create a vector\n",
    "v = np.array([1,40,2,-3])"
   ]
  },
  {
   "cell_type": "code",
   "execution_count": 3,
   "id": "b048d7a0",
   "metadata": {},
   "outputs": [
    {
     "name": "stdout",
     "output_type": "stream",
     "text": [
      "Min,max: -3,40\n"
     ]
    }
   ],
   "source": [
    "#find and report the maxium and minimum values\n",
    "minval = np.min(v)\n",
    "maxval = np.max(v)\n",
    "\n",
    "print('Min,max: %g,%g' %(minval,maxval))"
   ]
  },
  {
   "cell_type": "code",
   "execution_count": 4,
   "id": "c15a6ce8",
   "metadata": {},
   "outputs": [
    {
     "name": "stdout",
     "output_type": "stream",
     "text": [
      "Min,max indices: 3,1\n",
      " \n"
     ]
    },
    {
     "data": {
      "text/plain": [
       "(None, None)"
      ]
     },
     "execution_count": 4,
     "metadata": {},
     "output_type": "execute_result"
    }
   ],
   "source": [
    "#now for the argmin/max\n",
    "minidx = np.argmin(v)\n",
    "maxidx = np.argmax(v)\n",
    "\n",
    "print('Min,max indices: %g,%g' %(minidx,maxidx) ), print(' ')"
   ]
  },
  {
   "cell_type": "code",
   "execution_count": 5,
   "id": "18f461e0",
   "metadata": {},
   "outputs": [
    {
     "name": "stdout",
     "output_type": "stream",
     "text": [
      "[[ 0  1  0]\n",
      " [20  8  5]]\n",
      " \n",
      "0\n",
      "[0 1 0]\n",
      "[0 5]\n"
     ]
    }
   ],
   "source": [
    "#repeat with matrix\n",
    "M = np.array([[0,1,0],\n",
    "              [20,8,5]])\n",
    "print(M) , print(' ')\n",
    "\n",
    "#various minima in this matrix!\n",
    "minvals1 = np.min(M) #minium from ENTIRE matrix\n",
    "minvals2 = np.min(M,axis=0) #minium of each columm(across rows)\n",
    "minvals3 = np.min(M,axis=1) #minium of each row (across columns)\n",
    "\n",
    "# print them out \n",
    "print(minvals1)\n",
    "print(minvals2)\n",
    "print(minvals3)\n"
   ]
  },
  {
   "cell_type": "code",
   "execution_count": 6,
   "id": "a32515b2",
   "metadata": {},
   "outputs": [
    {
     "name": "stdout",
     "output_type": "stream",
     "text": [
      "[[ 0  1  0]\n",
      " [20  8  5]]\n",
      "0\n",
      "[0 0 0]\n",
      "[0 2]\n"
     ]
    }
   ],
   "source": [
    "# various minimas in maxtrix!\n",
    "minidx1 = np.argmin(M) #minium from ENTIRE matrix\n",
    "minidx2 = np.argmin(M,axis=0) #minium of each columm(across rows)\n",
    "minidx3 = np.argmin(M,axis=1) #minium of each row (across columns)\n",
    "\n",
    "# print them out\n",
    "print(M) \n",
    "print(minidx1)\n",
    "print(minidx2)\n",
    "print(minidx3)"
   ]
  },
  {
   "cell_type": "code",
   "execution_count": 7,
   "id": "c8619096",
   "metadata": {},
   "outputs": [],
   "source": [
    "#create a vector\n",
    "c = torch.tensor([1,40,2,-3])"
   ]
  },
  {
   "cell_type": "code",
   "execution_count": null,
   "id": "6a526266",
   "metadata": {},
   "outputs": [],
   "source": [
    "#find and report the maximun and minimum \n",
    "min_val = torch.min(c)\n",
    "max_val = torch.max(c)"
   ]
  }
 ],
 "metadata": {
  "kernelspec": {
   "display_name": ".venv (3.11.1)",
   "language": "python",
   "name": "python3"
  },
  "language_info": {
   "codemirror_mode": {
    "name": "ipython",
    "version": 3
   },
   "file_extension": ".py",
   "mimetype": "text/x-python",
   "name": "python",
   "nbconvert_exporter": "python",
   "pygments_lexer": "ipython3",
   "version": "3.11.1"
  }
 },
 "nbformat": 4,
 "nbformat_minor": 5
}
