{
 "cells": [
  {
   "cell_type": "code",
   "execution_count": 19,
   "id": "cda666b4",
   "metadata": {},
   "outputs": [],
   "source": [
    "import numpy as np\n",
    "import torch "
   ]
  },
  {
   "cell_type": "code",
   "execution_count": 6,
   "id": "87b57d7b",
   "metadata": {},
   "outputs": [
    {
     "name": "stdout",
     "output_type": "stream",
     "text": [
      "[[1]\n",
      " [2]\n",
      " [3]\n",
      " [4]]\n",
      " \n"
     ]
    },
    {
     "data": {
      "text/plain": [
       "(None, None)"
      ]
     },
     "execution_count": 6,
     "metadata": {},
     "output_type": "execute_result"
    }
   ],
   "source": [
    "#create a vector\n",
    "nv = np.array([ [1,2,3,4] ]) \n",
    "print(nv.T) , print(' ')"
   ]
  },
  {
   "cell_type": "code",
   "execution_count": 3,
   "id": "e2ab565a",
   "metadata": {},
   "outputs": [
    {
     "name": "stdout",
     "output_type": "stream",
     "text": [
      "[[1]\n",
      " [2]\n",
      " [3]\n",
      " [4]]\n",
      "\n"
     ]
    },
    {
     "data": {
      "text/plain": [
       "(None, None)"
      ]
     },
     "execution_count": 3,
     "metadata": {},
     "output_type": "execute_result"
    }
   ],
   "source": [
    "#transpose it \n",
    "\n",
    "print(nv.T), print('')\n"
   ]
  },
  {
   "cell_type": "code",
   "execution_count": 4,
   "id": "66b74ce0",
   "metadata": {},
   "outputs": [
    {
     "name": "stdout",
     "output_type": "stream",
     "text": [
      "[[1 2 3 4]]\n"
     ]
    }
   ],
   "source": [
    "nvT = nv.T\n",
    "print(nvT.T)"
   ]
  },
  {
   "cell_type": "code",
   "execution_count": 7,
   "id": "7eac023d",
   "metadata": {},
   "outputs": [
    {
     "name": "stdout",
     "output_type": "stream",
     "text": [
      "[[1 2 3 4]\n",
      " [5 6 7 8]]\n",
      " \n",
      "[[1 5]\n",
      " [2 6]\n",
      " [3 7]\n",
      " [4 8]]\n",
      " \n",
      "[[1 2 3 4]\n",
      " [5 6 7 8]]\n"
     ]
    }
   ],
   "source": [
    "#repeat for a for a matrix\n",
    "nM = np.array([ [1,2,3,4],\n",
    "                [5,6,7,8] \n",
    "              ])\n",
    "print(nM), print(' ')\n",
    "# transpose it \n",
    "print(nM.T), print(' ')\n",
    "#transpose the transpose!\n",
    "nMT = nM.T\n",
    "print(nMT.T)\n"
   ]
  },
  {
   "cell_type": "code",
   "execution_count": 10,
   "id": "07ea633a",
   "metadata": {},
   "outputs": [
    {
     "name": "stdout",
     "output_type": "stream",
     "text": [
      "tensor([[1, 2, 3, 4]])\n",
      " \n",
      "tensor([[1],\n",
      "        [2],\n",
      "        [3],\n",
      "        [4]])\n",
      " \n",
      "tensor([[1, 2, 3, 4]])\n"
     ]
    }
   ],
   "source": [
    "#create a vector \n",
    "tv = torch.tensor([ [1,2,3,4] ])\n",
    "print(tv), print(' ')\n",
    "\n",
    "#transpose it \n",
    "print(tv.T), print(' ')\n",
    "\n",
    "#transpose the transposel\n",
    "tvT = tv.T\n",
    "print(tv)"
   ]
  },
  {
   "cell_type": "code",
   "execution_count": 12,
   "id": "53b9b5aa",
   "metadata": {},
   "outputs": [
    {
     "name": "stdout",
     "output_type": "stream",
     "text": [
      "tensor([[1, 2, 3, 4],\n",
      "        [5, 6, 7, 8]])\n",
      " \n",
      "tensor([[1, 5],\n",
      "        [2, 6],\n",
      "        [3, 7],\n",
      "        [4, 8]])\n",
      " \n",
      "tensor([[1, 2, 3, 4],\n",
      "        [5, 6, 7, 8]])\n"
     ]
    }
   ],
   "source": [
    "#repeat for  a matrix \n",
    "tM = torch.tensor([[1,2,3,4],[5,6,7,8]])\n",
    "print(tM), print(' ')\n",
    "\n",
    "#transpose it \n",
    "print(tM.T) , print(' ')\n",
    " \n",
    "#transpose the transpose !\n",
    "\n",
    "tMT = tM.T \n",
    "print(tM)\n",
    "\n"
   ]
  },
  {
   "cell_type": "code",
   "execution_count": 13,
   "id": "1b190fdd",
   "metadata": {},
   "outputs": [],
   "source": [
    "#create  a vector\n",
    "nv1 = np.array([1,2,3,4])\n",
    "nv2 = np.array([0,1,0,-1])\n",
    "\n"
   ]
  },
  {
   "cell_type": "code",
   "execution_count": 14,
   "id": "087a0f80",
   "metadata": {},
   "outputs": [
    {
     "name": "stdout",
     "output_type": "stream",
     "text": [
      "-2\n"
     ]
    }
   ],
   "source": [
    "#dot product via function \n",
    "print(np.dot(nv1,nv2))"
   ]
  },
  {
   "cell_type": "code",
   "execution_count": 15,
   "id": "5e00f783",
   "metadata": {},
   "outputs": [
    {
     "name": "stdout",
     "output_type": "stream",
     "text": [
      "-2\n"
     ]
    }
   ],
   "source": [
    "#dot product via computation\n",
    "print(np.sum(nv1*nv2))"
   ]
  },
  {
   "cell_type": "code",
   "execution_count": 16,
   "id": "7285265e",
   "metadata": {},
   "outputs": [],
   "source": [
    "#create  a vector \n",
    "tv1 = torch.tensor([1,2,3,4])\n",
    "tv2 = torch.tensor([0,1,0,-1])\n"
   ]
  },
  {
   "cell_type": "code",
   "execution_count": 17,
   "id": "ee840e84",
   "metadata": {},
   "outputs": [
    {
     "name": "stdout",
     "output_type": "stream",
     "text": [
      "tensor(-2)\n"
     ]
    }
   ],
   "source": [
    "print(torch.dot(tv1,tv2))"
   ]
  },
  {
   "cell_type": "code",
   "execution_count": 18,
   "id": "08374845",
   "metadata": {},
   "outputs": [
    {
     "name": "stdout",
     "output_type": "stream",
     "text": [
      "tensor(-2)\n"
     ]
    }
   ],
   "source": [
    "print(torch.sum(tv1*tv2))"
   ]
  },
  {
   "cell_type": "code",
   "execution_count": 21,
   "id": "276bdc68",
   "metadata": {},
   "outputs": [],
   "source": [
    "#create some random matrices \n",
    "A = np.random.randn(3,4)\n",
    "B = np.random.randn(4,5)\n",
    "C = np.random.randn(3,7)"
   ]
  },
  {
   "cell_type": "code",
   "execution_count": 24,
   "id": "a5abc468",
   "metadata": {},
   "outputs": [
    {
     "name": "stdout",
     "output_type": "stream",
     "text": [
      "[[-2.29 -0.54 -0.42 -1.16 -0.59]\n",
      " [ 0.99  0.21 -1.04 -2.77  1.2 ]\n",
      " [ 4.48  0.48 -1.35  2.02 -1.6 ]]\n",
      " \n",
      "[[-0.99 -0.6  -1.07 -1.12]\n",
      " [ 0.65  1.49 -1.13  0.17]\n",
      " [-0.94 -1.75  1.79  0.47]\n",
      " [ 1.11 -0.01  0.75 -0.19]\n",
      " [ 0.17  0.4  -0.04  0.35]\n",
      " [-2.69 -1.47  0.08  0.55]\n",
      " [-0.06  0.1  -0.85 -0.76]]\n",
      " \n"
     ]
    },
    {
     "data": {
      "text/plain": [
       "(None, None)"
      ]
     },
     "execution_count": 24,
     "metadata": {},
     "output_type": "execute_result"
    }
   ],
   "source": [
    "print(np.round(A@B ,2)), print(' ')\n",
    "#print(np.round(A@C ,2)), print(' ')\n",
    "#print(np.round(B@C ,2)), print(' ')\n",
    "print(np.round(C.T@A ,2)), print(' ')"
   ]
  }
 ],
 "metadata": {
  "kernelspec": {
   "display_name": ".venv (3.11.1)",
   "language": "python",
   "name": "python3"
  },
  "language_info": {
   "codemirror_mode": {
    "name": "ipython",
    "version": 3
   },
   "file_extension": ".py",
   "mimetype": "text/x-python",
   "name": "python",
   "nbconvert_exporter": "python",
   "pygments_lexer": "ipython3",
   "version": "3.11.1"
  }
 },
 "nbformat": 4,
 "nbformat_minor": 5
}
